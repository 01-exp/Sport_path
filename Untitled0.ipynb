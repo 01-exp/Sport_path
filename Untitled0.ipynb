{
  "nbformat": 4,
  "nbformat_minor": 0,
  "metadata": {
    "colab": {
      "provenance": [],
      "toc_visible": true,
      "authorship_tag": "ABX9TyNa59D4Yq2qgoege06v/SFB",
      "include_colab_link": true
    },
    "kernelspec": {
      "name": "python3",
      "display_name": "Python 3"
    },
    "language_info": {
      "name": "python"
    }
  },
  "cells": [
    {
      "cell_type": "markdown",
      "metadata": {
        "id": "view-in-github",
        "colab_type": "text"
      },
      "source": [
        "<a href=\"https://colab.research.google.com/github/01-exp/Sport_path/blob/master/Untitled0.ipynb\" target=\"_parent\"><img src=\"https://colab.research.google.com/assets/colab-badge.svg\" alt=\"Open In Colab\"/></a>"
      ]
    },
    {
      "cell_type": "markdown",
      "source": [],
      "metadata": {
        "id": "stxmzXkY9Ugh"
      }
    },
    {
      "cell_type": "code",
      "source": [
        "\n"
      ],
      "metadata": {
        "id": "gAxdAPB47x1k"
      },
      "execution_count": null,
      "outputs": []
    },
    {
      "cell_type": "code",
      "execution_count": null,
      "metadata": {
        "colab": {
          "base_uri": "https://localhost:8080/"
        },
        "id": "Xux3KNJ93fD6",
        "outputId": "fea89793-27c9-4544-c446-5920ad84bd1f"
      },
      "outputs": [
        {
          "output_type": "stream",
          "name": "stdout",
          "text": [
            "[0, 4, 8, 2, 10, 2, 0, 5, 5, 8]\n"
          ]
        }
      ],
      "source": [
        "import random\n",
        "\n",
        "def random_list(n):\n",
        "  lst = []\n",
        "  for i in range(n):\n",
        "    lst.append(random.randint(0, n))\n",
        "  return lst\n",
        "\n",
        "n = 10\n",
        "a = random_list(n)\n",
        "print(a)"
      ]
    },
    {
      "cell_type": "code",
      "source": [
        "def sort_bubble(arr):\n",
        "  for i in range(len(arr)-1):\n",
        "    for j in range(len(arr)-1-i):\n",
        "      if arr[j] > arr[j+1]:\n",
        "        arr[j], arr[j+1] = arr[j+1], arr[j]\n",
        "\n",
        "a = random_list(16)\n",
        "print(a)\n",
        "sort_bubble(a)\n",
        "print(a)"
      ],
      "metadata": {
        "id": "HMbgtsvf4qCy",
        "colab": {
          "base_uri": "https://localhost:8080/"
        },
        "outputId": "ee5e5cf1-e1ca-42f5-f8e4-dc71db694da1"
      },
      "execution_count": null,
      "outputs": [
        {
          "output_type": "stream",
          "name": "stdout",
          "text": [
            "[7, 13, 16, 14, 7, 15, 7, 11, 3, 1, 15, 12, 11, 8, 10, 2]\n",
            "[1, 2, 3, 7, 7, 7, 8, 10, 11, 11, 12, 13, 14, 15, 15, 16]\n"
          ]
        }
      ]
    },
    {
      "cell_type": "code",
      "source": [
        "def sort_select(array):\n",
        "  n = len(array)\n",
        "  for i in range(n):\n",
        "    min_el = i\n",
        "    for j in range(i+1, n):\n",
        "      if array[j] < array[min_el]:\n",
        "        min_el = j\n",
        "        array[i], array[min_el] = array[min_el], array[i]\n",
        "\n",
        "def sort_select(array):\n",
        "  n = len(array);\n",
        "  for i in range(n):\n",
        "    for j in range(i+1,n):\n",
        "      if array[j] < array[i]:\n",
        "        array[j], array[i] = array[i], array[j];\n",
        "\n",
        "a = random_list(16)\n",
        "print(a)\n",
        "sort_select(a)\n",
        "print(a)"
      ],
      "metadata": {
        "id": "keRoHfnJ96Zi",
        "colab": {
          "base_uri": "https://localhost:8080/"
        },
        "outputId": "bade7bd0-f94a-48ff-9315-696eeac4305b"
      },
      "execution_count": null,
      "outputs": [
        {
          "output_type": "stream",
          "name": "stdout",
          "text": [
            "[3, 8, 9, 14, 12, 16, 13, 0, 11, 9, 2, 7, 15, 0, 11, 3]\n",
            "[2, 0, 3, 0, 7, 3, 8, 11, 11, 9, 9, 13, 12, 15, 14, 16]\n"
          ]
        }
      ]
    },
    {
      "cell_type": "code",
      "source": [
        "def sort_insert(ar):\n",
        "  n = len(ar);\n",
        "  for i in range(1, n):\n",
        "    element = ar[i];\n",
        "    j = i - 1;\n",
        "    while j >= 0 and element < ar[j]:\n",
        "      ar[j+1] = ar[j]\n",
        "      j = j - 1\n",
        "    ar[j+1] = element\n",
        "\n",
        "def sort_insert(ar):\n",
        "  n = len(ar);\n",
        "  for i in range(1, n):\n",
        "    j = i - 1;\n",
        "    while j >= 0 and ar[j] > ar[j+1] :\n",
        "      ar[j], ar[j+1] = ar[j+1], ar[j]\n",
        "      j -= 1\n",
        "\n",
        "a = random_list(16)\n",
        "print(a)\n",
        "sort_insert(a)\n",
        "print(a)"
      ],
      "metadata": {
        "colab": {
          "base_uri": "https://localhost:8080/"
        },
        "id": "SiWsfhyiAmOt",
        "outputId": "b9efab48-b34a-498b-957b-5dd208f2890f"
      },
      "execution_count": null,
      "outputs": [
        {
          "output_type": "stream",
          "name": "stdout",
          "text": [
            "[9, 9, 13, 3, 9, 3, 15, 2, 6, 1, 12, 14, 5, 6, 10, 13]\n",
            "[1, 2, 3, 3, 5, 6, 6, 9, 9, 9, 10, 12, 13, 13, 14, 15]\n"
          ]
        }
      ]
    },
    {
      "cell_type": "code",
      "source": [
        "M = [[random.randint(0,10)for i in range(4)]for j in range (3)]\n",
        "def printMatrix(M):\n",
        "  for row in M:\n",
        "    for e in row:\n",
        "      print(e, end = '\\t')\n",
        "    print()\n",
        "\n",
        "def snake(M):\n",
        "  print()\n",
        "  col = len(M[0])\n",
        "  row = len(M)\n",
        "  for i in range(row):\n",
        "    if i % 2 == 0:\n",
        "      for j in range(col):\n",
        "        print(M[i][j], end=\" \")\n",
        "    else:\n",
        "      for j in range (col-1, -1, -1):\n",
        "        print(M[i][j], end = \" \")\n",
        "\n",
        "def snake2(M):\n",
        "  print()\n",
        "  col = len(M[0])\n",
        "  row = len(M)\n",
        "  for i in range(row):\n",
        "\n",
        "\n",
        "printMatrix(M)\n",
        "snake(M)\n",
        "snake2(M)\n"
      ],
      "metadata": {
        "colab": {
          "base_uri": "https://localhost:8080/"
        },
        "id": "JgEnvxem-aSk",
        "outputId": "170db359-dbee-48e0-bbf0-b774fc9750e7"
      },
      "execution_count": null,
      "outputs": [
        {
          "output_type": "stream",
          "name": "stdout",
          "text": [
            "1\t7\t3\t0\t\n",
            "8\t7\t6\t1\t\n",
            "10\t10\t5\t4\t\n",
            "\n",
            "4 3\n",
            "\n",
            "1 7 3 0 1 6 7 8 10 10 5 4 "
          ]
        }
      ]
    },
    {
      "cell_type": "code",
      "source": [
        "\n"
      ],
      "metadata": {
        "id": "jAlShYQ78EzC"
      },
      "execution_count": null,
      "outputs": []
    },
    {
      "cell_type": "markdown",
      "source": [
        "# Второй уровень."
      ],
      "metadata": {
        "id": "6ilTOKEi8wyN"
      }
    },
    {
      "cell_type": "code",
      "source": [
        "def factorial(n):\n",
        "  if n <= 1: return 1\n",
        "  print(f\"in {n=}\")\n",
        "  result = n * factorial(n-1)\n",
        "  print(f\"out {result=}\")\n",
        "  return result\n",
        "factorial(5)"
      ],
      "metadata": {
        "id": "3Puf0PxQ81dk"
      },
      "execution_count": null,
      "outputs": []
    },
    {
      "cell_type": "code",
      "source": [
        "def gcd(x,y):\n",
        "  if y == 0:\n",
        "    return x\n",
        "  else:\n",
        "    return gcd(y, x % y)\n",
        "x = 10\n",
        "y = 5\n",
        "num = gcd(x,y)\n",
        "print(num)"
      ],
      "metadata": {
        "id": "fJKfdCYobLqD"
      },
      "execution_count": null,
      "outputs": []
    },
    {
      "cell_type": "code",
      "source": [
        "from random import randint\n",
        "\n",
        "def binary_search(arr, target, left, right):\n",
        "\n",
        "    if left > right:\n",
        "        return -1\n",
        "\n",
        "    mid = (left + right) // 2\n",
        "\n",
        "    if arr[mid] == target:\n",
        "        return mid\n",
        "    elif arr[mid] < target:\n",
        "        return binary_search(arr,target, mid+1,right)\n",
        "    else:\n",
        "        return binary_search(arr,target,left,mid-1)\n",
        "\n",
        "def first_and_last_index(arr,target):\n",
        "    first_index = last_index = -1\n",
        "    index = binary_search(arr, target, 0, len(arr)-1)\n",
        "    if index != -1:\n",
        "      first_index = index\n",
        "      while first_index > 0 and arr[first_index - 1] == target:\n",
        "        first_index -= 1\n",
        "\n",
        "    if index != -1:\n",
        "      last_index = index\n",
        "      while last_index < len(arr)-1 and arr[last_index+1] == target :\n",
        "        last_index += 1\n",
        "      last_index += 1\n",
        "    return first_index, last_index\n",
        "\n",
        "\n",
        "\n",
        "\n",
        "\n",
        "n = 20\n",
        "arr = [randint(0, n) for i in range(n)]\n",
        "arr.sort()\n",
        "print(arr)\n",
        "target = 12\n",
        "first_index, last_index = first_and_last_index(arr,target)\n",
        "\n",
        "\n",
        "index = binary_search(arr, target,0, len(arr)-1)\n",
        "if index != -1:\n",
        "    print(\"Искомое значение: \", target, \"Иднекс: \",index)\n",
        "else:\n",
        "    print(\"Значение\", target,\"не найдено\")\n",
        "if first_index != -1:\n",
        "    print(first_index,last_index)\n",
        "\n"
      ],
      "metadata": {
        "id": "FA-V4NHYAKCl",
        "colab": {
          "base_uri": "https://localhost:8080/"
        },
        "outputId": "94990303-3cca-4819-fd27-db2daf3e0d04"
      },
      "execution_count": null,
      "outputs": [
        {
          "output_type": "stream",
          "name": "stdout",
          "text": [
            "Искомое значение:  12 Иднекс:  14\n",
            "14 15\n"
          ]
        }
      ]
    },
    {
      "cell_type": "code",
      "source": [
        "from random import randint\n",
        "\n",
        "def merge_arr(n1,n2):\n",
        "\n",
        "  n1_i = 0\n",
        "  n2_i = 0\n",
        "  m = []\n",
        "\n",
        "  while n1_i < len(n1) and n2_i < len(n2):\n",
        "    if n1[n1_i] < n2[n2_i]:\n",
        "      m.append(n1[n1_i])\n",
        "      n1_i += 1\n",
        "    else:\n",
        "      m.append(n2[n2_i])\n",
        "      n2_i += 1\n",
        "\n",
        "  if n1_i >= len(n1):\n",
        "    m += n2[n2_i:]\n",
        "  else:\n",
        "    m += n1[n1_i:]\n",
        "\n",
        "  return m\n",
        "\n",
        "n = 5\n",
        "\n",
        "n1 = [randint(0,n) for i in range(n)]\n",
        "n1.sort()\n",
        "\n",
        "n2 = [randint(0,n) for i in range(n)]\n",
        "n2.sort()\n",
        "\n",
        "print(n1)\n",
        "print(n2)\n",
        "print(merge_arr(n1,n2))\n",
        "\n",
        "def sort_merge_arr(array):\n",
        "\n",
        "  if len(array) <= 1:\n",
        "    return array\n",
        "  else:\n",
        "    middle = len(array) // 2\n",
        "    left = sort_merge_arr(array[:middle])\n",
        "    right = sort_merge_arr(array[middle:])\n",
        "\n",
        "  return merge_arr(left,right)\n",
        "\n",
        "array = [1,2,9,12,67,3,5]\n",
        "print(sort_merge_arr(array))"
      ],
      "metadata": {
        "colab": {
          "base_uri": "https://localhost:8080/"
        },
        "id": "rc7X0SB7Nyyc",
        "outputId": "815a7135-eeb0-46ff-9771-f3a5e3a99cb7"
      },
      "execution_count": null,
      "outputs": [
        {
          "output_type": "stream",
          "name": "stdout",
          "text": [
            "[0, 1, 1, 2, 2]\n",
            "[1, 1, 1, 2, 3]\n",
            "[0, 1, 1, 1, 1, 1, 2, 2, 2, 3]\n",
            "[1, 2, 3, 5, 9, 12, 67]\n"
          ]
        }
      ]
    },
    {
      "cell_type": "code",
      "source": [
        "import pandas as pd\n",
        "\n",
        "sales1 = pd.DataFrame({'Дата':['2022-01-01','2022-01-02','2022-01-03'],'Выручка':[1000,2000,1500]})\n",
        "sales2 = pd.DataFrame({'Дата':['2022-01-01','2022-01-02','2022-01-03'],'Выручка':[1500,2500,1800]})\n",
        "\n",
        "sales1['Общая выручка'] = sales1['Выручка'] + sales2['Выручка']\n",
        "print(sales1[['Дата','Общая выручка']])"
      ],
      "metadata": {
        "id": "m1cEzpwuYFzO",
        "colab": {
          "base_uri": "https://localhost:8080/"
        },
        "outputId": "410e86f7-9123-4696-bf35-45a41a2a5f69"
      },
      "execution_count": null,
      "outputs": [
        {
          "output_type": "stream",
          "name": "stdout",
          "text": [
            "         Дата  Общая выручка\n",
            "0  2022-01-01           2500\n",
            "1  2022-01-02           4500\n",
            "2  2022-01-03           3300\n"
          ]
        }
      ]
    },
    {
      "cell_type": "code",
      "source": [
        "sales = pd.DataFrame({\n",
        "    'product':['product_1','product_2','product_3','product_4'],\n",
        "    'month_1':[100,200,300,400],\n",
        "    'month_2':[200,250,150,300],\n",
        "    'month_3':[150,300,100,200],\n",
        "})\n",
        "conversion_rate = pd.Series({\n",
        "    'product_1': 0.1,\n",
        "    'product_2': 0.2,\n",
        "    'product_3': 0.3,\n",
        "    'product_4': 0.1,\n",
        "})\n"
      ],
      "metadata": {
        "id": "di4sMy-T1JsQ"
      },
      "execution_count": null,
      "outputs": []
    },
    {
      "cell_type": "code",
      "source": [
        "data = {\n",
        "    'Название': ['Apple Iphone 12',\n",
        "                 'Samsung Galaxy S21',\n",
        "                 'Xiaomi Mi 21',\n",
        "                 'Google Pixel 5'],\n",
        "    'Описание':['Мощный смарфтон от Apple',\n",
        "                'Премиальный андроид от Samsung',\n",
        "                'Смартфон с высокопроизводительной камерой',\n",
        "                'Новый флагман Google с лучшей камерой']}\n",
        "\n",
        "df = pd.DataFrame(data)\n",
        "df['Название'] = df['Название'].str.lower()\n",
        "\n",
        "df['Описание'] = df['Описание'].str.replace('смартфон','телефон', case = False)\n",
        "\n",
        "print(df)"
      ],
      "metadata": {
        "colab": {
          "base_uri": "https://localhost:8080/"
        },
        "id": "8aSBSK1-1jdT",
        "outputId": "243c7d47-ac72-43bb-9cfb-c2920ba55b1b"
      },
      "execution_count": null,
      "outputs": [
        {
          "output_type": "stream",
          "name": "stdout",
          "text": [
            "             Название                                  Описание\n",
            "0     apple iphone 12                  Мощный смарфтон от Apple\n",
            "1  samsung galaxy s21            Премиальный андроид от Samsung\n",
            "2        xiaomi mi 21  телефон с высокопроизводительной камерой\n",
            "3      google pixel 5     Новый флагман Google с лучшей камерой\n"
          ]
        }
      ]
    },
    {
      "cell_type": "code",
      "source": [
        "\n",
        "def calculate_cost(row):\n",
        "    row['Стоимость'] = row['Цена'] * row['Количество']\n",
        "    return row\n",
        "data = {\n",
        "    'Покупатель': ['Иван', 'Петр', 'Мария', 'Алексей'],\n",
        "    'Название': ['Книга', 'Ноутбук', 'Смартфон', 'Компьютер'],\n",
        "    'Цена': [500, 40000, 25000, 60000],\n",
        "    'Количество': [2, 1, 1, 1],\n",
        "    'Почта': ['ivanov@example.com', 'petrov@example.com', 'sidorova@example.com', 'kozlov@example.com']\n",
        "}\n",
        "\n",
        "df = pd.DataFrame(data)\n",
        "df = df.apply(calculate_cost, axis=1)\n",
        "print(df)"
      ],
      "metadata": {
        "colab": {
          "base_uri": "https://localhost:8080/"
        },
        "id": "pB25E-ql7kz0",
        "outputId": "16fd575d-c946-4c33-a5ae-2f7942e4f9d0"
      },
      "execution_count": null,
      "outputs": [
        {
          "output_type": "stream",
          "name": "stdout",
          "text": [
            "  Покупатель   Название   Цена  Количество                 Почта  Стоимость\n",
            "0       Иван      Книга    500           2    ivanov@example.com       1000\n",
            "1       Петр    Ноутбук  40000           1    petrov@example.com      40000\n",
            "2      Мария   Смартфон  25000           1  sidorova@example.com      25000\n",
            "3    Алексей  Компьютер  60000           1    kozlov@example.com      60000\n"
          ]
        }
      ]
    },
    {
      "cell_type": "code",
      "source": [
        "data = ({\n",
        "    'Имя':['Иван','Петр','Мария','Алексей'],\n",
        "    'Фамилия':['Иванов','Петров','Сидорова','Козлов'],\n",
        "    'Алгебра':['5','3','4','5'],\n",
        "    'Геометрия':['4','5','3','5'],\n",
        "    'Английский':['3','4','5','5'],\n",
        "    'Общий балл':['12','12','12','15'],\n",
        "})\n",
        "df = pd.DataFrame(data)\n",
        "\n",
        "\n",
        "def avg_ball(row):\n",
        "    subjects = ['Алгебра', 'Геометрия', 'Английский']\n",
        "    total_score = 0\n",
        "    count = 0\n",
        "\n",
        "    for subject in subjects:\n",
        "      if row[subject] is not None:\n",
        "        total_score += row[subject]\n",
        "        count += 1\n",
        "    if count == 0:\n",
        "        return None\n",
        "    avg = roral_score / count\n",
        "    return avg\n",
        "\n",
        "df['Средний балл'] = df.apply(avg_ball, axis=1)\n",
        "\n",
        "\n",
        "print(df)"
      ],
      "metadata": {
        "colab": {
          "base_uri": "https://localhost:8080/",
          "height": 390
        },
        "id": "87CRocf4-gVO",
        "outputId": "b2586461-56d1-4a99-c64c-35f60bf0d241"
      },
      "execution_count": null,
      "outputs": [
        {
          "output_type": "error",
          "ename": "TypeError",
          "evalue": "unsupported operand type(s) for +=: 'int' and 'str'",
          "traceback": [
            "\u001b[0;31m---------------------------------------------------------------------------\u001b[0m",
            "\u001b[0;31mTypeError\u001b[0m                                 Traceback (most recent call last)",
            "\u001b[0;32m<ipython-input-29-671fe2450221>\u001b[0m in \u001b[0;36m<cell line: 26>\u001b[0;34m()\u001b[0m\n\u001b[1;32m     24\u001b[0m     \u001b[0;32mreturn\u001b[0m \u001b[0mavg\u001b[0m\u001b[0;34m\u001b[0m\u001b[0;34m\u001b[0m\u001b[0m\n\u001b[1;32m     25\u001b[0m \u001b[0;34m\u001b[0m\u001b[0m\n\u001b[0;32m---> 26\u001b[0;31m \u001b[0mdf\u001b[0m\u001b[0;34m[\u001b[0m\u001b[0;34m'Средний балл'\u001b[0m\u001b[0;34m]\u001b[0m \u001b[0;34m=\u001b[0m \u001b[0mdf\u001b[0m\u001b[0;34m.\u001b[0m\u001b[0mapply\u001b[0m\u001b[0;34m(\u001b[0m\u001b[0mavg_ball\u001b[0m\u001b[0;34m,\u001b[0m \u001b[0maxis\u001b[0m\u001b[0;34m=\u001b[0m\u001b[0;36m1\u001b[0m\u001b[0;34m)\u001b[0m\u001b[0;34m\u001b[0m\u001b[0;34m\u001b[0m\u001b[0m\n\u001b[0m\u001b[1;32m     27\u001b[0m \u001b[0;34m\u001b[0m\u001b[0m\n\u001b[1;32m     28\u001b[0m \u001b[0;34m\u001b[0m\u001b[0m\n",
            "\u001b[0;32m/usr/local/lib/python3.10/dist-packages/pandas/core/frame.py\u001b[0m in \u001b[0;36mapply\u001b[0;34m(self, func, axis, raw, result_type, args, by_row, engine, engine_kwargs, **kwargs)\u001b[0m\n\u001b[1;32m  10372\u001b[0m             \u001b[0mkwargs\u001b[0m\u001b[0;34m=\u001b[0m\u001b[0mkwargs\u001b[0m\u001b[0;34m,\u001b[0m\u001b[0;34m\u001b[0m\u001b[0;34m\u001b[0m\u001b[0m\n\u001b[1;32m  10373\u001b[0m         )\n\u001b[0;32m> 10374\u001b[0;31m         \u001b[0;32mreturn\u001b[0m \u001b[0mop\u001b[0m\u001b[0;34m.\u001b[0m\u001b[0mapply\u001b[0m\u001b[0;34m(\u001b[0m\u001b[0;34m)\u001b[0m\u001b[0;34m.\u001b[0m\u001b[0m__finalize__\u001b[0m\u001b[0;34m(\u001b[0m\u001b[0mself\u001b[0m\u001b[0;34m,\u001b[0m \u001b[0mmethod\u001b[0m\u001b[0;34m=\u001b[0m\u001b[0;34m\"apply\"\u001b[0m\u001b[0;34m)\u001b[0m\u001b[0;34m\u001b[0m\u001b[0;34m\u001b[0m\u001b[0m\n\u001b[0m\u001b[1;32m  10375\u001b[0m \u001b[0;34m\u001b[0m\u001b[0m\n\u001b[1;32m  10376\u001b[0m     def map(\n",
            "\u001b[0;32m/usr/local/lib/python3.10/dist-packages/pandas/core/apply.py\u001b[0m in \u001b[0;36mapply\u001b[0;34m(self)\u001b[0m\n\u001b[1;32m    914\u001b[0m             \u001b[0;32mreturn\u001b[0m \u001b[0mself\u001b[0m\u001b[0;34m.\u001b[0m\u001b[0mapply_raw\u001b[0m\u001b[0;34m(\u001b[0m\u001b[0mengine\u001b[0m\u001b[0;34m=\u001b[0m\u001b[0mself\u001b[0m\u001b[0;34m.\u001b[0m\u001b[0mengine\u001b[0m\u001b[0;34m,\u001b[0m \u001b[0mengine_kwargs\u001b[0m\u001b[0;34m=\u001b[0m\u001b[0mself\u001b[0m\u001b[0;34m.\u001b[0m\u001b[0mengine_kwargs\u001b[0m\u001b[0;34m)\u001b[0m\u001b[0;34m\u001b[0m\u001b[0;34m\u001b[0m\u001b[0m\n\u001b[1;32m    915\u001b[0m \u001b[0;34m\u001b[0m\u001b[0m\n\u001b[0;32m--> 916\u001b[0;31m         \u001b[0;32mreturn\u001b[0m \u001b[0mself\u001b[0m\u001b[0;34m.\u001b[0m\u001b[0mapply_standard\u001b[0m\u001b[0;34m(\u001b[0m\u001b[0;34m)\u001b[0m\u001b[0;34m\u001b[0m\u001b[0;34m\u001b[0m\u001b[0m\n\u001b[0m\u001b[1;32m    917\u001b[0m \u001b[0;34m\u001b[0m\u001b[0m\n\u001b[1;32m    918\u001b[0m     \u001b[0;32mdef\u001b[0m \u001b[0magg\u001b[0m\u001b[0;34m(\u001b[0m\u001b[0mself\u001b[0m\u001b[0;34m)\u001b[0m\u001b[0;34m:\u001b[0m\u001b[0;34m\u001b[0m\u001b[0;34m\u001b[0m\u001b[0m\n",
            "\u001b[0;32m/usr/local/lib/python3.10/dist-packages/pandas/core/apply.py\u001b[0m in \u001b[0;36mapply_standard\u001b[0;34m(self)\u001b[0m\n\u001b[1;32m   1061\u001b[0m     \u001b[0;32mdef\u001b[0m \u001b[0mapply_standard\u001b[0m\u001b[0;34m(\u001b[0m\u001b[0mself\u001b[0m\u001b[0;34m)\u001b[0m\u001b[0;34m:\u001b[0m\u001b[0;34m\u001b[0m\u001b[0;34m\u001b[0m\u001b[0m\n\u001b[1;32m   1062\u001b[0m         \u001b[0;32mif\u001b[0m \u001b[0mself\u001b[0m\u001b[0;34m.\u001b[0m\u001b[0mengine\u001b[0m \u001b[0;34m==\u001b[0m \u001b[0;34m\"python\"\u001b[0m\u001b[0;34m:\u001b[0m\u001b[0;34m\u001b[0m\u001b[0;34m\u001b[0m\u001b[0m\n\u001b[0;32m-> 1063\u001b[0;31m             \u001b[0mresults\u001b[0m\u001b[0;34m,\u001b[0m \u001b[0mres_index\u001b[0m \u001b[0;34m=\u001b[0m \u001b[0mself\u001b[0m\u001b[0;34m.\u001b[0m\u001b[0mapply_series_generator\u001b[0m\u001b[0;34m(\u001b[0m\u001b[0;34m)\u001b[0m\u001b[0;34m\u001b[0m\u001b[0;34m\u001b[0m\u001b[0m\n\u001b[0m\u001b[1;32m   1064\u001b[0m         \u001b[0;32melse\u001b[0m\u001b[0;34m:\u001b[0m\u001b[0;34m\u001b[0m\u001b[0;34m\u001b[0m\u001b[0m\n\u001b[1;32m   1065\u001b[0m             \u001b[0mresults\u001b[0m\u001b[0;34m,\u001b[0m \u001b[0mres_index\u001b[0m \u001b[0;34m=\u001b[0m \u001b[0mself\u001b[0m\u001b[0;34m.\u001b[0m\u001b[0mapply_series_numba\u001b[0m\u001b[0;34m(\u001b[0m\u001b[0;34m)\u001b[0m\u001b[0;34m\u001b[0m\u001b[0;34m\u001b[0m\u001b[0m\n",
            "\u001b[0;32m/usr/local/lib/python3.10/dist-packages/pandas/core/apply.py\u001b[0m in \u001b[0;36mapply_series_generator\u001b[0;34m(self)\u001b[0m\n\u001b[1;32m   1079\u001b[0m             \u001b[0;32mfor\u001b[0m \u001b[0mi\u001b[0m\u001b[0;34m,\u001b[0m \u001b[0mv\u001b[0m \u001b[0;32min\u001b[0m \u001b[0menumerate\u001b[0m\u001b[0;34m(\u001b[0m\u001b[0mseries_gen\u001b[0m\u001b[0;34m)\u001b[0m\u001b[0;34m:\u001b[0m\u001b[0;34m\u001b[0m\u001b[0;34m\u001b[0m\u001b[0m\n\u001b[1;32m   1080\u001b[0m                 \u001b[0;31m# ignore SettingWithCopy here in case the user mutates\u001b[0m\u001b[0;34m\u001b[0m\u001b[0;34m\u001b[0m\u001b[0m\n\u001b[0;32m-> 1081\u001b[0;31m                 \u001b[0mresults\u001b[0m\u001b[0;34m[\u001b[0m\u001b[0mi\u001b[0m\u001b[0;34m]\u001b[0m \u001b[0;34m=\u001b[0m \u001b[0mself\u001b[0m\u001b[0;34m.\u001b[0m\u001b[0mfunc\u001b[0m\u001b[0;34m(\u001b[0m\u001b[0mv\u001b[0m\u001b[0;34m,\u001b[0m \u001b[0;34m*\u001b[0m\u001b[0mself\u001b[0m\u001b[0;34m.\u001b[0m\u001b[0margs\u001b[0m\u001b[0;34m,\u001b[0m \u001b[0;34m**\u001b[0m\u001b[0mself\u001b[0m\u001b[0;34m.\u001b[0m\u001b[0mkwargs\u001b[0m\u001b[0;34m)\u001b[0m\u001b[0;34m\u001b[0m\u001b[0;34m\u001b[0m\u001b[0m\n\u001b[0m\u001b[1;32m   1082\u001b[0m                 \u001b[0;32mif\u001b[0m \u001b[0misinstance\u001b[0m\u001b[0;34m(\u001b[0m\u001b[0mresults\u001b[0m\u001b[0;34m[\u001b[0m\u001b[0mi\u001b[0m\u001b[0;34m]\u001b[0m\u001b[0;34m,\u001b[0m \u001b[0mABCSeries\u001b[0m\u001b[0;34m)\u001b[0m\u001b[0;34m:\u001b[0m\u001b[0;34m\u001b[0m\u001b[0;34m\u001b[0m\u001b[0m\n\u001b[1;32m   1083\u001b[0m                     \u001b[0;31m# If we have a view on v, we need to make a copy because\u001b[0m\u001b[0;34m\u001b[0m\u001b[0;34m\u001b[0m\u001b[0m\n",
            "\u001b[0;32m<ipython-input-29-671fe2450221>\u001b[0m in \u001b[0;36mavg_ball\u001b[0;34m(row)\u001b[0m\n\u001b[1;32m     17\u001b[0m     \u001b[0;32mfor\u001b[0m \u001b[0msubject\u001b[0m \u001b[0;32min\u001b[0m \u001b[0msubjects\u001b[0m\u001b[0;34m:\u001b[0m\u001b[0;34m\u001b[0m\u001b[0;34m\u001b[0m\u001b[0m\n\u001b[1;32m     18\u001b[0m       \u001b[0;32mif\u001b[0m \u001b[0mrow\u001b[0m\u001b[0;34m[\u001b[0m\u001b[0msubject\u001b[0m\u001b[0;34m]\u001b[0m \u001b[0;32mis\u001b[0m \u001b[0;32mnot\u001b[0m \u001b[0;32mNone\u001b[0m\u001b[0;34m:\u001b[0m\u001b[0;34m\u001b[0m\u001b[0;34m\u001b[0m\u001b[0m\n\u001b[0;32m---> 19\u001b[0;31m         \u001b[0mtotal_score\u001b[0m \u001b[0;34m+=\u001b[0m \u001b[0mrow\u001b[0m\u001b[0;34m[\u001b[0m\u001b[0msubject\u001b[0m\u001b[0;34m]\u001b[0m\u001b[0;34m\u001b[0m\u001b[0;34m\u001b[0m\u001b[0m\n\u001b[0m\u001b[1;32m     20\u001b[0m         \u001b[0mcount\u001b[0m \u001b[0;34m+=\u001b[0m \u001b[0;36m1\u001b[0m\u001b[0;34m\u001b[0m\u001b[0;34m\u001b[0m\u001b[0m\n\u001b[1;32m     21\u001b[0m     \u001b[0;32mif\u001b[0m \u001b[0mcount\u001b[0m \u001b[0;34m==\u001b[0m \u001b[0;36m0\u001b[0m\u001b[0;34m:\u001b[0m\u001b[0;34m\u001b[0m\u001b[0;34m\u001b[0m\u001b[0m\n",
            "\u001b[0;31mTypeError\u001b[0m: unsupported operand type(s) for +=: 'int' and 'str'"
          ]
        }
      ]
    },
    {
      "cell_type": "code",
      "source": [
        "Class Queue:\n",
        "  def __init__(self,volume=16):\n",
        "    self.__L = [0] * volume\n",
        "    self.start = 0\n",
        "    self.end = 0\n",
        "    self__length = 0\n",
        "  def enqueue(self, value):\n",
        "\n",
        "  def dequque(self):\n",
        "    return\n",
        "\n",
        "  def __len__():\n",
        "    return self.__length"
      ],
      "metadata": {
        "id": "YOorkkBUjCX3"
      },
      "execution_count": null,
      "outputs": []
    }
  ]
}